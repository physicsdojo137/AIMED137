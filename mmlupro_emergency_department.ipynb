{
  "nbformat": 4,
  "nbformat_minor": 0,
  "metadata": {
    "colab": {
      "provenance": [],
      "gpuType": "T4"
    },
    "kernelspec": {
      "name": "python3",
      "display_name": "Python 3"
    },
    "language_info": {
      "name": "python"
    },
    "accelerator": "GPU"
  },
  "cells": [
    {
      "cell_type": "code",
      "execution_count": null,
      "metadata": {
        "id": "2XH5gU93zBLk"
      },
      "outputs": [],
      "source": [
        "import pandas as pd\n",
        "\n",
        "# Login using e.g. `huggingface-cli login` to access this dataset\n",
        "splits = {'test': 'data/test-00000-of-00001.parquet', 'validation': 'data/validation-00000-of-00001.parquet'}\n",
        "df = pd.read_parquet(\"hf://datasets/TIGER-Lab/MMLU-Pro/\" + splits[\"test\"])"
      ]
    },
    {
      "cell_type": "markdown",
      "source": [
        "@misc{tiger-lab_2024,\n",
        "\tauthor       = { TIGER-Lab },\n",
        "\ttitle        = { MMLU-Pro (Revision efb53c9) },\n",
        "\tyear         = 2024,\n",
        "\turl          = { https://huggingface.co/datasets/TIGER-Lab/MMLU-Pro },\n",
        "\tdoi          = { 10.57967/hf/2439 },\n",
        "\tpublisher    = { Hugging Face }\n",
        "}"
      ],
      "metadata": {
        "id": "IumoVG6uyVTH"
      }
    },
    {
      "cell_type": "code",
      "source": [
        "# prompt: load mmlu-pro from huggingface\n",
        "# make sure you have your secret key saved by clicking on the key at the right and saving your key.\n",
        "\n",
        "import pandas as pd\n",
        "\n",
        "# Login using e.g. `huggingface-cli login` to access this dataset\n",
        "splits = {'test': 'data/test-00000-of-00001.parquet', 'validation': 'data/validation-00000-of-00001.parquet'}\n",
        "df = pd.read_parquet(\"hf://datasets/TIGER-Lab/MMLU-Pro/\" + splits[\"test\"])\n",
        "\n",
        "# First collect questions related to Professional_Medicine\n",
        "pm = df[df.apply(lambda row: row.astype(str).str.contains('professional_medicine', case=False).any(), axis=1)]\n",
        "\n",
        "# Sort on areas of interest, examples emergency department, chest pain, trauma, abdominal pain\n",
        "ed = pm[pm.apply(lambda row: row.astype(str).str.contains('emergency department', case=False).any(), axis=1)]\n",
        "\n",
        "ed\n",
        "\n",
        "# To view the dataset, click on the table icon on the left."
      ],
      "metadata": {
        "id": "s-FF7ofY0gMq"
      },
      "execution_count": null,
      "outputs": []
    },
    {
      "cell_type": "code",
      "source": [
        "# prompt: save ed to a csv file on my local computer\n",
        "\n",
        "from google.colab import files\n",
        "\n",
        "# Save to CSV file\n",
        "ed.to_csv('ed.csv', index=False)\n",
        "\n",
        "# Download the file\n",
        "files.download('ed.csv')\n"
      ],
      "metadata": {
        "colab": {
          "base_uri": "https://localhost:8080/",
          "height": 17
        },
        "id": "ppKbhmwN2GnU",
        "outputId": "f5641e54-37de-49dc-9833-f8984425f5ef"
      },
      "execution_count": 3,
      "outputs": [
        {
          "output_type": "display_data",
          "data": {
            "text/plain": [
              "<IPython.core.display.Javascript object>"
            ],
            "application/javascript": [
              "\n",
              "    async function download(id, filename, size) {\n",
              "      if (!google.colab.kernel.accessAllowed) {\n",
              "        return;\n",
              "      }\n",
              "      const div = document.createElement('div');\n",
              "      const label = document.createElement('label');\n",
              "      label.textContent = `Downloading \"${filename}\": `;\n",
              "      div.appendChild(label);\n",
              "      const progress = document.createElement('progress');\n",
              "      progress.max = size;\n",
              "      div.appendChild(progress);\n",
              "      document.body.appendChild(div);\n",
              "\n",
              "      const buffers = [];\n",
              "      let downloaded = 0;\n",
              "\n",
              "      const channel = await google.colab.kernel.comms.open(id);\n",
              "      // Send a message to notify the kernel that we're ready.\n",
              "      channel.send({})\n",
              "\n",
              "      for await (const message of channel.messages) {\n",
              "        // Send a message to notify the kernel that we're ready.\n",
              "        channel.send({})\n",
              "        if (message.buffers) {\n",
              "          for (const buffer of message.buffers) {\n",
              "            buffers.push(buffer);\n",
              "            downloaded += buffer.byteLength;\n",
              "            progress.value = downloaded;\n",
              "          }\n",
              "        }\n",
              "      }\n",
              "      const blob = new Blob(buffers, {type: 'application/binary'});\n",
              "      const a = document.createElement('a');\n",
              "      a.href = window.URL.createObjectURL(blob);\n",
              "      a.download = filename;\n",
              "      div.appendChild(a);\n",
              "      a.click();\n",
              "      div.remove();\n",
              "    }\n",
              "  "
            ]
          },
          "metadata": {}
        },
        {
          "output_type": "display_data",
          "data": {
            "text/plain": [
              "<IPython.core.display.Javascript object>"
            ],
            "application/javascript": [
              "download(\"download_d63e8b90-2935-46d0-96b7-80ba1c1c40f8\", \"ed.csv\", 60559)"
            ]
          },
          "metadata": {}
        }
      ]
    },
    {
      "cell_type": "markdown",
      "source": [
        "Upload to google sheets to explore your data set\n",
        "Have fun ⛵"
      ],
      "metadata": {
        "id": "CdM7EY0s_ApX"
      }
    },
    {
      "cell_type": "code",
      "source": [],
      "metadata": {
        "id": "s-UJE-vr2UGY"
      },
      "execution_count": null,
      "outputs": []
    }
  ]
}